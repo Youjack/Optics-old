{
 "cells": [
  {
   "cell_type": "markdown",
   "metadata": {},
   "source": [
    "# **质点在中心引力场中自由下落的一阶微扰近似**\n",
    "\n",
    "### **问题背景**\n",
    "\n",
    "在中心引力场中，从静止开始自由下落的质点满足微分方程\n",
    "$$\n",
    "F = \\frac{GMm}{(h-q)^2} = m\\ddot{q} \\quad (*)\n",
    "$$\n",
    "其中 $q$ 为下落距离，$h$ 为 $t=0$ 时刻质点到引力场中心的距离。\n",
    "\n",
    "微分方程 $(*)$ 难以求得解析解，但如果 $h\\gg q$，则可近似认为引力场为匀强场，质点下落问题有解析解，即自由落体公式\n",
    "$$\n",
    "q = \\frac{1}{2} \\frac{GM}{h^2} t^2\n",
    "$$\n",
    "\n",
    "我将在 $h\\gg q$ 的条件下，尝试利用Hamilton-Jacobi方程求得 $(*)$ 的一阶微扰近似解。\n",
    "\n",
    "### **理论计算**\n",
    "\n",
    "初值条件为 $q(0)=0,p(0)=m\\dot{q}(0)=0$。\n",
    "\n",
    "以距离引力场中心 $h$ 处为势能零点，记 $k\\equiv \\displaystyle\\frac{GMm}{h^2}$，则在匀强场近似(以下称零阶微扰，并以上角标 $(0)$ 表示)下势能为\n",
    "$$\n",
    "V^{(0)} = -kq,\\quad q=0 \\Rightarrow V^{(0)}=0\n",
    "$$\n",
    "无近似时势能为\n",
    "$$\n",
    "V = -kh^2 \\left(\\frac{1}{h-q} - \\frac{1}{h}\\right),\\quad q=0 \\Rightarrow V=0\n",
    "$$\n",
    "\n",
    "零阶微扰Hamiltonian为 $H^{(0)} = \\displaystyle\\frac{p^2}{2m} + V^{(0)}$，Hamilton-Jacobi方程为\n",
    "$$\n",
    "\\frac{\\partial S^{(0)}}{\\partial t} + \\frac{1}{2m}\\left(\\frac{\\partial S^{(0)}}{\\partial q}\\right)^2 - kq = 0\n",
    "$$\n",
    "用分离变量法，记 $S^{(0)}(q,t) \\equiv S^{(0)}_t(t) + S^{(0)}_q(q)$，可得常微分方程\n",
    "$$\n",
    "\\frac{d S^{(0)}_t}{d t} + P = 0 ,\\quad\n",
    "\\frac{1}{2m} \\left(\\frac{d S^{(0)}_q}{d q}\\right)^2 - kq = P\n",
    "$$\n",
    "其中 $P$ 为常数。可解得\n",
    "$$\n",
    "S^{(0)}_t = -Pt ,\\quad\n",
    "S^{(0)}_q = \\int \\sqrt{2m(P+kq)}dq = \\frac{2\\sqrt{2m}}{3k} (P+kq)^{3/2}\n",
    "$$\n",
    "\n",
    "以 $P$ 为新动量，记新坐标为 $Q$，Kamiltonian为 $K^{(0)}$，可得 $S^{(0)}(q,P,t)$ 诱导的正则变换\n",
    "$$\n",
    "K^{(0)} = \\frac{\\partial S^{(0)}}{\\partial t} + H^{(0)} = 0 ,\\quad\n",
    "\\left\\{\\begin{align*}\n",
    "p &= \\frac{\\partial S^{(0)}}{\\partial q} = \\sqrt{2m(P+kq)} \\\\\n",
    "Q &= \\frac{\\partial S^{(0)}}{\\partial P} = -t + \\frac{1}{k}\\sqrt{2m(P+kq)}\n",
    "\\end{align*}\\right.\n",
    "$$\n",
    "可解出旧坐标\n",
    "$$\n",
    "q(Q,P,t) = \\frac{k(Q+t)^2}{2m} - \\frac{P}{k}\n",
    "$$\n",
    "\n",
    "将初值条件代入正则变换，由 $K^{(0)}=0$，可解得\n",
    "$$\n",
    "\\left\\{\\begin{align*}\n",
    "P^{(0)}(t) = P(0) = 0 \\\\\n",
    "Q^{(0)}(t) = Q(0) = 0\n",
    "\\end{align*}\\right. ,\\quad\n",
    "q^{(0)} = \\frac{kt^2}{2m} = \\frac{1}{2} \\frac{GM}{h^2} t^2\n",
    "$$\n",
    "此即自由落体公式。\n",
    "\n",
    "下面计算一阶微扰近似(计算非常繁琐，将借助Wolfram Language进行)。\n",
    "微扰Hamiltonian为\n",
    "$$\n",
    "\\Delta H = V - V^{(0)} = \\frac{kq^2}{q-h}\n",
    "$$\n",
    "一阶微扰Hamilton正则方程为\n",
    "$$\n",
    "\\left\\{\\begin{align*}\n",
    "\\frac{d Q^{(1)}}{d t}(t) &=  \\frac{\\partial \\Delta H}{\\partial P} \\left(Q^{(0)}(t),P^{(0)}(t),t\\right)\n",
    ",\\quad &Q^{(1)}(0)=Q(0) \\\\\n",
    "\\frac{d P^{(1)}}{d t}(t) &= -\\frac{\\partial \\Delta H}{\\partial Q} \\left(Q^{(0)}(t),P^{(0)}(t),t\\right)\n",
    ",\\quad &P^{(1)}(0)=P(0)\n",
    "\\end{align*}\\right.\n",
    "$$\n",
    "解此方程，可得"
   ]
  },
  {
   "cell_type": "code",
   "execution_count": 1,
   "metadata": {},
   "outputs": [
    {
     "data": {
      "text/html": [
       "<style>\n",
       "\t\t\t\t\t\t\t\t\t\t\t\t\t.grid-container {\n",
       "\t\t\t\t\t\t\t\t\t\t\t\t\t\tdisplay: inline-grid;\n",
       "\t\t\t\t\t\t\t\t\t\t\t\t\t\tgrid-template-columns: auto;\n",
       "\t\t\t\t\t\t\t\t\t\t\t\t\t}\n",
       "\t\t\t\t\t\t\t\t\t\t\t\t</style>\n",
       "\n",
       "\t\t\t\t\t\t\t\t\t\t\t\t<div><div class=\"grid-container\"><div class=\"grid-item\">&#36;&#36;&#92;&#116;&#101;&#120;&#116;&#123;&#81;&#49;&#125;&#40;&#116;&#41;&#61;&#92;&#102;&#114;&#97;&#99;&#123;&#104;&#32;&#109;&#32;&#116;&#125;&#123;&#50;&#32;&#104;&#32;&#109;&#45;&#107;&#32;&#116;&#94;&#50;&#125;&#43;&#92;&#102;&#114;&#97;&#99;&#123;&#92;&#115;&#113;&#114;&#116;&#123;&#92;&#102;&#114;&#97;&#99;&#123;&#104;&#32;&#109;&#125;&#123;&#107;&#125;&#125;&#32;&#92;&#116;&#97;&#110;&#104;&#32;&#94;&#123;&#45;&#49;&#125;&#92;&#108;&#101;&#102;&#116;&#40;&#92;&#102;&#114;&#97;&#99;&#123;&#107;&#32;&#116;&#125;&#123;&#92;&#115;&#113;&#114;&#116;&#123;&#50;&#125;&#32;&#92;&#115;&#113;&#114;&#116;&#123;&#104;&#32;&#107;&#32;&#109;&#125;&#125;&#92;&#114;&#105;&#103;&#104;&#116;&#41;&#125;&#123;&#92;&#115;&#113;&#114;&#116;&#123;&#50;&#125;&#125;&#45;&#116;&#36;&#36;</div><div class=\"grid-item\">&#36;&#36;&#92;&#116;&#101;&#120;&#116;&#123;&#80;&#49;&#125;&#40;&#116;&#41;&#61;&#92;&#102;&#114;&#97;&#99;&#123;&#107;&#94;&#51;&#32;&#116;&#94;&#52;&#125;&#123;&#52;&#32;&#104;&#32;&#109;&#94;&#50;&#45;&#50;&#32;&#107;&#32;&#109;&#32;&#116;&#94;&#50;&#125;&#36;&#36;</div></div></div>"
      ],
      "text/plain": [
       "\\text{Q1}(t)=\\frac{h m t}{2 h m-k t^2}+\\frac{\\sqrt{\\frac{h m}{k}} \\tanh\\\n",
       " \n",
       ">   ^{-1}\\left(\\frac{k t}{\\sqrt{2} \\sqrt{h k m}}\\right)}{\\sqrt{2}}-t\n",
       "\\text{P1}(t)=\\frac{k^3 t^4}{4 h m^2-2 k m t^2}"
      ]
     },
     "execution_count": 9,
     "metadata": {
      "text/html": [],
      "text/plain": []
     },
     "output_type": "execute_result"
    }
   ],
   "source": [
    "Clear[\"Global`*\"];\n",
    "$Assumptions = m>0 && h>0 && k>0;\n",
    "\n",
    "q = k(Q+t)^2/(2m)-P/k;\n",
    "ΔH = k*q^2/(q-h);\n",
    "\n",
    "dQ1 =  D[ΔH, P] /. {Q->0,P->0};\n",
    "dP1 = -D[ΔH, Q] /. {Q->0,P->0};\n",
    "\n",
    "Q1 = Expand@FullSimplify[\n",
    "    DSolve[{Qt'[t]==dQ1, Qt[0]==0}, Qt[t], t] [[1,1,2]]\n",
    "];\n",
    "P1 = Expand@FullSimplify[\n",
    "    DSolve[{Pt'[t]==dP1, Pt[0]==0}, Pt[t], t] [[1,1,2]]\n",
    "];\n",
    "\n",
    "TeXForm[HoldForm[Q1[t]]==Q1]\n",
    "TeXForm[HoldForm[P1[t]]==P1]"
   ]
  },
  {
   "cell_type": "markdown",
   "metadata": {},
   "source": [
    "将 $Q^{(1)},P^{(1)}$ 代入正则变换，可得 $q$ 的一阶微扰近似解"
   ]
  },
  {
   "cell_type": "code",
   "execution_count": 11,
   "metadata": {},
   "outputs": [
    {
     "data": {
      "text/html": [
       "<div>&#36;&#36;&#92;&#116;&#101;&#120;&#116;&#123;&#113;&#49;&#125;&#40;&#116;&#41;&#61;&#92;&#102;&#114;&#97;&#99;&#123;&#104;&#94;&#50;&#32;&#107;&#32;&#109;&#32;&#116;&#94;&#50;&#125;&#123;&#50;&#32;&#92;&#108;&#101;&#102;&#116;&#40;&#50;&#32;&#104;&#32;&#109;&#45;&#107;&#32;&#116;&#94;&#50;&#92;&#114;&#105;&#103;&#104;&#116;&#41;&#94;&#50;&#125;&#45;&#92;&#102;&#114;&#97;&#99;&#123;&#107;&#94;&#50;&#32;&#116;&#94;&#52;&#125;&#123;&#52;&#32;&#104;&#32;&#109;&#94;&#50;&#45;&#50;&#32;&#107;&#32;&#109;&#32;&#116;&#94;&#50;&#125;&#43;&#92;&#102;&#114;&#97;&#99;&#123;&#104;&#32;&#107;&#32;&#116;&#32;&#92;&#115;&#113;&#114;&#116;&#123;&#92;&#102;&#114;&#97;&#99;&#123;&#104;&#32;&#109;&#125;&#123;&#107;&#125;&#125;&#32;&#92;&#116;&#97;&#110;&#104;&#32;&#94;&#123;&#45;&#49;&#125;&#92;&#108;&#101;&#102;&#116;&#40;&#92;&#102;&#114;&#97;&#99;&#123;&#107;&#32;&#116;&#125;&#123;&#92;&#115;&#113;&#114;&#116;&#123;&#50;&#125;&#32;&#92;&#115;&#113;&#114;&#116;&#123;&#104;&#32;&#107;&#32;&#109;&#125;&#125;&#92;&#114;&#105;&#103;&#104;&#116;&#41;&#125;&#123;&#92;&#115;&#113;&#114;&#116;&#123;&#50;&#125;&#32;&#92;&#108;&#101;&#102;&#116;&#40;&#50;&#32;&#104;&#32;&#109;&#45;&#107;&#32;&#116;&#94;&#50;&#92;&#114;&#105;&#103;&#104;&#116;&#41;&#125;&#43;&#92;&#102;&#114;&#97;&#99;&#123;&#49;&#125;&#123;&#52;&#125;&#32;&#104;&#32;&#92;&#116;&#97;&#110;&#104;&#32;&#94;&#123;&#45;&#49;&#125;&#92;&#108;&#101;&#102;&#116;&#40;&#92;&#102;&#114;&#97;&#99;&#123;&#107;&#32;&#116;&#125;&#123;&#92;&#115;&#113;&#114;&#116;&#123;&#50;&#125;&#32;&#92;&#115;&#113;&#114;&#116;&#123;&#104;&#32;&#107;&#32;&#109;&#125;&#125;&#92;&#114;&#105;&#103;&#104;&#116;&#41;&#94;&#50;&#36;&#36;</div>"
      ],
      "text/plain": [
       "\\text{q1}(t)=\\frac{h^2 k m t^2}{2 \\left(2 h m-k t^2\\right)^2}-\\frac{k^2 t^4}{4 h m^2-2 k\\\n",
       " \n",
       ">   m t^2}+\\frac{h k t \\sqrt{\\frac{h m}{k}} \\tanh ^{-1}\\left(\\frac{k t}{\\sqrt{2} \\sqrt{h\\\n",
       " \n",
       ">   k m}}\\right)}{\\sqrt{2} \\left(2 h m-k t^2\\right)}+\\frac{1}{4} h \\tanh\\\n",
       " \n",
       ">   ^{-1}\\left(\\frac{k t}{\\sqrt{2} \\sqrt{h k m}}\\right)^2"
      ]
     },
     "execution_count": 12,
     "metadata": {
      "text/html": [],
      "text/plain": []
     },
     "output_type": "execute_result"
    }
   ],
   "source": [
    "q1 = q /. {Q->Q1,P->P1} //Expand;\n",
    "\n",
    "TeXForm[HoldForm[q1[t]]==q1]"
   ]
  },
  {
   "cell_type": "markdown",
   "metadata": {},
   "source": [
    "### **应用实例**\n",
    "\n",
    "下面分别使用匀强场近似、一阶微扰近似、数值模拟，计算 $t=0$ 时刻位于地球同步轨道(GEO)的质量为 $m=1\\rm{kg}$ 的质点的自由下落。\n",
    "\n",
    "各参数如下"
   ]
  },
  {
   "cell_type": "code",
   "execution_count": 13,
   "metadata": {},
   "outputs": [],
   "source": [
    "G = 6.67259*10^(-11); (* N m^2 kg^-2 万有引力常数     *)\n",
    "M = 5.965*10^24;      (* kg          地球质量        *)\n",
    "m = 1;                (* kg          质点质量        *)\n",
    "h = 42164000;         (* m           地球同步轨道半径 *)\n",
    "R =  6371000;         (* m           地球半径        *)\n",
    "\n",
    "k = G M m / h^2;\n",
    "T = 60*60; (* s 下落时长 *)"
   ]
  },
  {
   "cell_type": "markdown",
   "metadata": {},
   "source": [
    "计算匀强场近似及数值模拟，并画出各种计算方法算得的 $-q(t)$ 曲线。"
   ]
  },
  {
   "cell_type": "code",
   "execution_count": 20,
   "metadata": {},
   "outputs": [],
   "source": [
    "q0 = k/(2m) t^2; (* 匀强场近似 *)\n",
    "qN = NDSolve[    (* 数值模拟  *)\n",
    "    {G*M/(h-qt[t])^2==qt''[t], qt[0]==0, qt'[0]==0},\n",
    "    qt, {t,0,T}\n",
    "] [[1,1,2]][t];"
   ]
  },
  {
   "cell_type": "code",
   "execution_count": 22,
   "metadata": {},
   "outputs": [
    {
     "data": {
      "text/html": [
       "<div><img alt=\"Output\" src=\"data:image/png;base64,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\"></div>"
      ],
      "text/plain": [
       "Legended[-Graphics-, Placed[LineLegend[{Directive[Opacity[1.], \n",
       " \n",
       ">       RGBColor[0.368417, 0.506779, 0.709798], AbsoluteThickness[1.6]], \n",
       " \n",
       ">      Directive[Opacity[1.], RGBColor[0.880722, 0.611041, 0.142051], \n",
       " \n",
       ">       AbsoluteThickness[1.6]], Directive[Opacity[1.], \n",
       " \n",
       ">       RGBColor[0.560181, 0.691569, 0.194885], AbsoluteThickness[1.6]]}, \n",
       " \n",
       ">     {匀强场近似, 一阶微扰近似, 数值模拟}, LegendMarkers -> None, LabelStyle -> {}, \n",
       " \n",
       ">     LegendLayout -> Column], After, Identity]]"
      ]
     },
     "execution_count": 24,
     "metadata": {
      "text/html": [],
      "text/plain": []
     },
     "output_type": "execute_result"
    }
   ],
   "source": [
    "tLabel = Style[Row@{Style[\"t\",Italic],\" (s)\"},FontFamily->\"Times\"];\n",
    "qLabel = Style[Row@{Style[\"-q\",Italic],\" (m)\"},FontFamily->\"Times\"];\n",
    "Plot[{-q0, -q1, -qN}, {t,0,T},\n",
    "    PlotLegends->{\"匀强场近似\",\"一阶微扰近似\",\"数值模拟\"},\n",
    "    AxesLabel->{tLabel,qLabel}, GridLines->Automatic\n",
    "]"
   ]
  },
  {
   "cell_type": "markdown",
   "metadata": {},
   "source": [
    "可见三条曲线几乎完全重合，为看清三条曲线的差异，对图像 $t=3590 \\sim 3600\\mathrm{s}$ 的局部进行放大。"
   ]
  },
  {
   "cell_type": "code",
   "execution_count": 25,
   "metadata": {},
   "outputs": [
    {
     "data": {
      "text/html": [
       "<div><img alt=\"Output\" src=\"data:image/png;base64,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\"></div>"
      ],
      "text/plain": [
       "Legended[-Graphics-, Placed[LineLegend[{Directive[Opacity[1.], \n",
       " \n",
       ">       RGBColor[0.368417, 0.506779, 0.709798], AbsoluteThickness[1.6]], \n",
       " \n",
       ">      Directive[Opacity[1.], RGBColor[0.880722, 0.611041, 0.142051], \n",
       " \n",
       ">       AbsoluteThickness[1.6]], Directive[Opacity[1.], \n",
       " \n",
       ">       RGBColor[0.560181, 0.691569, 0.194885], AbsoluteThickness[1.6]]}, \n",
       " \n",
       ">     {匀强场近似, 一阶微扰近似, 数值模拟}, LegendMarkers -> None, LabelStyle -> {}, \n",
       " \n",
       ">     LegendLayout -> Column], After, Identity]]"
      ]
     },
     "execution_count": 25,
     "metadata": {
      "text/html": [],
      "text/plain": []
     },
     "output_type": "execute_result"
    }
   ],
   "source": [
    "Plot[{-q0, -q1, -qN}, {t,3590,3600},\n",
    "    PlotLegends->{\"匀强场近似\",\"一阶微扰近似\",\"数值模拟\"},\n",
    "    AxesLabel->{tLabel,qLabel}, GridLines->Automatic\n",
    "]"
   ]
  },
  {
   "cell_type": "markdown",
   "metadata": {},
   "source": [
    "比较其它两种计算方法与数值模拟的差距。"
   ]
  },
  {
   "cell_type": "code",
   "execution_count": 26,
   "metadata": {},
   "outputs": [
    {
     "data": {
      "text/html": [
       "<div><img alt=\"Output\" src=\"data:image/png;base64,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\"></div>"
      ],
      "text/plain": [
       "Legended[-Graphics-, Placed[LineLegend[{Directive[Opacity[1.], \n",
       " \n",
       ">       RGBColor[0.368417, 0.506779, 0.709798], AbsoluteThickness[1.6]], \n",
       " \n",
       ">      Directive[Opacity[1.], RGBColor[0.880722, 0.611041, 0.142051], \n",
       " \n",
       ">       AbsoluteThickness[1.6]]}, {匀强场近似, 一阶微扰近似}, LegendMarkers -> None, \n",
       " \n",
       ">     LabelStyle -> {}, LegendLayout -> Column], After, Identity]]"
      ]
     },
     "execution_count": 26,
     "metadata": {
      "text/html": [],
      "text/plain": []
     },
     "output_type": "execute_result"
    }
   ],
   "source": [
    "Plot[{-q0+qN, -q1+qN}, {t,0,T},\n",
    "    PlotLegends->{\"匀强场近似\",\"一阶微扰近似\"},\n",
    "    AxesLabel->{tLabel,qLabel}, GridLines->Automatic\n",
    "]"
   ]
  },
  {
   "cell_type": "markdown",
   "metadata": {},
   "source": [
    "可见，若认为数值模拟最为精确，则一阶微扰近似显著优于匀强场近似。"
   ]
  }
 ],
 "metadata": {
  "kernelspec": {
   "display_name": "Wolfram Language 12.1",
   "language": "Wolfram Language",
   "name": "wolframlanguage12.1"
  },
  "language_info": {
   "codemirror_mode": "mathematica",
   "file_extension": ".m",
   "mimetype": "application/vnd.wolfram.m",
   "name": "Wolfram Language",
   "pygments_lexer": "mathematica",
   "version": "12.0"
  }
 },
 "nbformat": 4,
 "nbformat_minor": 4
}
